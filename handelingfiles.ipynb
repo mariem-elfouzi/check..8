{
  "nbformat": 4,
  "nbformat_minor": 0,
  "metadata": {
    "colab": {
      "name": "handelingfiles.ipynb",
      "provenance": [],
      "collapsed_sections": [],
      "authorship_tag": "ABX9TyNHksoMlk41cHr4+LCHNQVr",
      "include_colab_link": true
    },
    "kernelspec": {
      "name": "python3",
      "display_name": "Python 3"
    },
    "language_info": {
      "name": "python"
    }
  },
  "cells": [
    {
      "cell_type": "markdown",
      "metadata": {
        "id": "view-in-github",
        "colab_type": "text"
      },
      "source": [
        "<a href=\"https://colab.research.google.com/github/mariem-elfouzi/check..8/blob/main/handelingfiles.ipynb\" target=\"_parent\"><img src=\"https://colab.research.google.com/assets/colab-badge.svg\" alt=\"Open In Colab\"/></a>"
      ]
    },
    {
      "cell_type": "code",
      "metadata": {
        "id": "5TZc1yqd3tQr",
        "colab": {
          "base_uri": "https://localhost:8080/",
          "height": 137
        },
        "outputId": "586d4a67-a17d-400d-c3ef-d886504b27a7"
      },
      "source": [
        "#question 1\n",
        "f=open('python.txt','r',encoding='utf-8')\n",
        "f.read()\n",
        "f.close()"
      ],
      "execution_count": 2,
      "outputs": [
        {
          "output_type": "execute_result",
          "data": {
            "application/vnd.google.colaboratory.intrinsic+json": {
              "type": "string"
            },
            "text/plain": [
              "'What is Python language?                                                \\nPython is a widely used high-level, general-purpose, interpreted, dynamic programming language.Its design philosophy emphasizes code readability, and its syntax allows programmers to express concepts in fewer lines of code than possible in \\nlanguages such as C++ or Java. \\nPython supports multiple programming paradigms, including object-oriented, imperative and functional programming or procedural styles. It features a dynamic type system and automatic memory management and has a large and comprehensive standard library.The best way we learn anything is by practice and exercise questions. We  have started this section for those (beginner to intermediate) who are familiar with Python.'"
            ]
          },
          "metadata": {
            "tags": []
          },
          "execution_count": 2
        }
      ]
    },
    {
      "cell_type": "code",
      "metadata": {
        "id": "CSNhkc6g4gDY"
      },
      "source": [
        "#question 2\n",
        "f=open('python.txt','r',encoding='utf-8')\n",
        "n=int(input())\n",
        "\n",
        "for i in range (n):\n",
        "  line=f.readline()\n",
        "  print(line)\n",
        "  f.close()"
      ],
      "execution_count": null,
      "outputs": []
    },
    {
      "cell_type": "code",
      "metadata": {
        "id": "LU0oZKhq7nON",
        "colab": {
          "base_uri": "https://localhost:8080/"
        },
        "outputId": "15590aae-40af-4eae-8805-9e2fe0297c1c"
      },
      "source": [
        "#question 3\n",
        "f=open('python.txt','r',encoding='utf-8')\n",
        "n=int(input())\n",
        "lines= f.readlines() [-n:]\n",
        "print(lines)\n",
        "f.close()"
      ],
      "execution_count": 5,
      "outputs": [
        {
          "output_type": "stream",
          "text": [
            "2\n",
            "['languages such as C++ or Java. \\n', 'Python supports multiple programming paradigms, including object-oriented, imperative and functional programming or procedural styles. It features a dynamic type system and automatic memory management and has a large and comprehensive standard library.The best way we learn anything is by practice and exercise questions. We  have started this section for those (beginner to intermediate) who are familiar with Python.']\n"
          ],
          "name": "stdout"
        }
      ]
    },
    {
      "cell_type": "code",
      "metadata": {
        "id": "bzW6zyuWAGzB",
        "colab": {
          "base_uri": "https://localhost:8080/"
        },
        "outputId": "09f6b2d6-6b83-4260-fa0c-42dfae3c3865"
      },
      "source": [
        "#question 4\n",
        "f=open('python.txt','r',encoding='utf-8')\n",
        "fil=f.read()\n",
        "words=fil.split()\n",
        "print(len(words))\n",
        "f.close()"
      ],
      "execution_count": 27,
      "outputs": [
        {
          "output_type": "stream",
          "text": [
            "100\n"
          ],
          "name": "stdout"
        }
      ]
    }
  ]
}